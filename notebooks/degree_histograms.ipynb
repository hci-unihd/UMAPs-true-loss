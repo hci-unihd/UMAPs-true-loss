{
 "cells": [
  {
   "cell_type": "markdown",
   "metadata": {
    "collapsed": true,
    "pycharm": {
     "name": "#%% md\n"
    }
   },
   "source": [
    "# Histograms of degrees in the UMAP / kNN graph"
   ]
  },
  {
   "cell_type": "code",
   "execution_count": 6,
   "outputs": [
    {
     "name": "stdout",
     "output_type": "stream",
     "text": [
      "The autoreload extension is already loaded. To reload it, use:\n",
      "  %reload_ext autoreload\n"
     ]
    }
   ],
   "source": [
    "%load_ext autoreload\n",
    "%autoreload 2\n",
    "import numpy as np\n",
    "import matplotlib.pyplot as plt\n",
    "import os\n",
    "import pickle"
   ],
   "metadata": {
    "collapsed": false,
    "pycharm": {
     "name": "#%%\n"
    }
   }
  },
  {
   "cell_type": "code",
   "execution_count": 7,
   "outputs": [],
   "source": [
    "data_seed = 3\n",
    "umap_seed = 0\n",
    "\n",
    "fig_path = \"../figures\"\n",
    "data_path_c_elegans = \"../data/packer_c-elegans\"\n",
    "data_path_ring = \"../data/toy_ring\""
   ],
   "metadata": {
    "collapsed": false,
    "pycharm": {
     "name": "#%%\n"
    }
   }
  },
  {
   "cell_type": "code",
   "execution_count": 8,
   "outputs": [
    {
     "name": "stdout",
     "output_type": "stream",
     "text": [
      "5.8273077\n",
      "16.524\n"
     ]
    }
   ],
   "source": [
    "# load default UMAP instance on ring data\n",
    "with open(os.path.join(data_path_ring, f\"toy_ring_1000_4_0_5_umapperns_init_seed_{data_seed}_{umap_seed}.pkl\"), \"rb\") as file:\n",
    "    umapperns_init = pickle.load(file)\n",
    "    embd_init = umapperns_init.embedding_\n",
    "deg_ring_default = np.array(umapperns_init.graph_.todense()).sum(1)\n",
    "n_neighs_ring = np.array(umapperns_init.graph_.todense() >0).sum(1)\n",
    "\n",
    "print(deg_ring_default.mean())\n",
    "print(n_neighs_ring.mean())\n"
   ],
   "metadata": {
    "collapsed": false,
    "pycharm": {
     "name": "#%%\n"
    }
   }
  },
  {
   "cell_type": "code",
   "execution_count": 9,
   "outputs": [
    {
     "name": "stdout",
     "output_type": "stream",
     "text": [
      "99.08138532538104\n",
      "1000.0\n"
     ]
    }
   ],
   "source": [
    "# load UMAP instance on ring data with dense input similarity\n",
    "with open(os.path.join(data_path_ring, f\"toy_ring_1000_4_0_5_umapperns_init_graph_seed_{data_seed}_{umap_seed}.pkl\"), \"rb\") as file:\n",
    "    umapperns_init_graph = pickle.load(file)\n",
    "    embd_init_graph = umapperns_init_graph.embedding_\n",
    "deg_ring_graph = np.array(umapperns_init_graph.graph_.todense()).sum(1)\n",
    "n_neighs_ring_graph = np.array(umapperns_init_graph.graph_.todense() >0).sum(1)\n",
    "\n",
    "print(deg_ring_graph.mean())\n",
    "print(n_neighs_ring_graph.mean())"
   ],
   "metadata": {
    "collapsed": false,
    "pycharm": {
     "name": "#%%\n"
    }
   }
  },
  {
   "cell_type": "code",
   "execution_count": 10,
   "outputs": [
    {
     "name": "stdout",
     "output_type": "stream",
     "text": [
      "Thu Apr 22 09:19:49 2021 Building and compiling search function\n"
     ]
    }
   ],
   "source": [
    "# load UMAP instance on C.elegans dataset\n",
    "seed=0\n",
    "with open(os.path.join(data_path_c_elegans, f\"umapperns_after_seed_{umap_seed}.pkl\"), \"rb\") as file:\n",
    "    umapperns = pickle.load(file)\n",
    "    embd_ = umapperns.embedding_\n",
    "\n",
    "deg_c_elegans_ = np.array(umapperns.graph_.todense()).sum(1)\n",
    "n_neighs_c_elegans_ = np.array(umapperns.graph_.todense() > 0).sum(1)\n"
   ],
   "metadata": {
    "collapsed": false,
    "pycharm": {
     "name": "#%%\n"
    }
   }
  },
  {
   "cell_type": "code",
   "execution_count": 11,
   "outputs": [
    {
     "data": {
      "text/plain": "<Figure size 432x288 with 1 Axes>",
      "image/png": "[encoded data removed]"
     },
     "metadata": {
      "needs_background": "light"
     },
     "output_type": "display_data"
    }
   ],
   "source": [
    "# historgrams degrees in the UMAP graphs\n",
    "counts_c_elegans_, bins = np.histogram(deg_c_elegans_, bins=200, range=(0,30))\n",
    "counts_ring_default, bins = np.histogram(deg_ring_default, bins=200, range=(0,30))\n",
    "\n",
    "counts_c_elegans_ = counts_c_elegans_ / counts_c_elegans_.sum()\n",
    "counts_ring_default = counts_ring_default / counts_ring_default.sum()\n",
    "\n",
    "plt.figure()\n",
    "hist_c_elegans = plt.hist(bins[:-1], weights=counts_c_elegans_, bins=bins, alpha=0.5, label=\"C. elegans\")\n",
    "hist_ring_default = plt.hist(bins[:-1], weights=counts_ring_default, bins=bins, alpha=0.5, label=\"ring\")\n",
    "plt.gca().spines['left'].set_position(\"zero\")\n",
    "plt.gca().spines['bottom'].set_position(\"zero\")\n",
    "#plt.yscale(\"symlog\")\n",
    "plt.legend()\n",
    "plt.gca().axvline(x=np.log2(30), color='C0', linestyle='dashed', linewidth=1)\n",
    "plt.gca().axvline(x=np.log2(15), color='C1', linestyle='dashed', linewidth=1)\n",
    "plt.savefig(os.path.join(fig_path, f\"degree_hist_seed_{seed}.png\"),\n",
    "            bbox_inches = 'tight',\n",
    "            pad_inches = 0,dpi=300)"
   ],
   "metadata": {
    "collapsed": false,
    "pycharm": {
     "name": "#%%\n"
    }
   }
  },
  {
   "cell_type": "code",
   "execution_count": 12,
   "outputs": [
    {
     "name": "stdout",
     "output_type": "stream",
     "text": [
      "3.9068905956085187\n",
      "4.906890595608519\n"
     ]
    }
   ],
   "source": [
    "# lower bounds for degrees in UMAP graphs\n",
    "print(np.log2(umapperns_init.n_neighbors))\n",
    "print(np.log2(umapperns.n_neighbors))\n",
    "\n"
   ],
   "metadata": {
    "collapsed": false,
    "pycharm": {
     "name": "#%%\n"
    }
   }
  },
  {
   "cell_type": "code",
   "execution_count": 13,
   "outputs": [
    {
     "data": {
      "text/plain": "<Figure size 432x288 with 1 Axes>",
      "image/png": "[encoded data removed]"
     },
     "metadata": {
      "needs_background": "light"
     },
     "output_type": "display_data"
    }
   ],
   "source": [
    "# compute and plot histogram for the degrees in the shared kNN graphs\n",
    "counts_neigh_c_elegans_, bins = np.histogram(n_neighs_c_elegans_, bins=100, range=(0,100))\n",
    "counts_neigh_c_elegans_ = counts_neigh_c_elegans_ / counts_neigh_c_elegans_.sum()\n",
    "\n",
    "counts_neigh_ring_default, bins = np.histogram(n_neighs_ring, bins=100, range=(0,100))\n",
    "counts_neigh_ring_default = counts_neigh_ring_default / counts_neigh_ring_default.sum()\n",
    "\n",
    "plt.figure()\n",
    "hist_neighs_c_elegans_ = plt.hist(bins[:-1],\n",
    "                                         weights=counts_neigh_c_elegans_,\n",
    "                                         bins=bins,\n",
    "                                         alpha=0.5,\n",
    "                                         label=\"C. elegans\")\n",
    "hist_neighs_ring_default = plt.hist(bins[:-1],\n",
    "                                      weights=counts_neigh_ring_default,\n",
    "                                      bins=bins,\n",
    "                                      alpha=0.5,\n",
    "                                      label=\"ring\")\n",
    "plt.xticks([0, 15, 30, 50, 75, 100])\n",
    "plt.gca().spines['left'].set_position(\"zero\")\n",
    "plt.gca().spines['bottom'].set_position(\"zero\")\n",
    "plt.legend()\n",
    "#plt.yscale(\"symlog\")\n",
    "plt.gca().axvline(x=29, color='C0', linestyle='dashed', linewidth=1)  # one lower due to self-loop\n",
    "plt.gca().axvline(x=14, color='C1', linestyle='dashed', linewidth=1)\n",
    "plt.savefig(os.path.join(fig_path, f\"degree_hist_kNN_seed_{seed}.png\"),\n",
    "            bbox_inches = 'tight',\n",
    "            pad_inches = 0,dpi=300)\n",
    "\n",
    "\n",
    "\n"
   ],
   "metadata": {
    "collapsed": false,
    "pycharm": {
     "name": "#%%\n"
    }
   }
  }
 ],
 "metadata": {
  "kernelspec": {
   "name": "conda-env-umap-negs-py",
   "language": "python",
   "display_name": "Python [conda env:umap-negs]"
  },
  "language_info": {
   "codemirror_mode": {
    "name": "ipython",
    "version": 2
   },
   "file_extension": ".py",
   "mimetype": "text/x-python",
   "name": "python",
   "nbconvert_exporter": "python",
   "pygments_lexer": "ipython2",
   "version": "2.7.6"
  }
 },
 "nbformat": 4,
 "nbformat_minor": 0
}