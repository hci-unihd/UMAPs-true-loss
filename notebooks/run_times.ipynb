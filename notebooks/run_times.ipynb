{
 "cells": [
  {
   "cell_type": "markdown",
   "source": [
    "# Run times of main experiments"
   ],
   "metadata": {
    "collapsed": false
   }
  },
  {
   "cell_type": "code",
   "execution_count": 3,
   "metadata": {
    "collapsed": true
   },
   "outputs": [
    {
     "name": "stdout",
     "output_type": "stream",
     "text": [
      "env: CUDA_VISIBLE_DEVICES=3\n"
     ]
    }
   ],
   "source": [
    "import numpy as np\n",
    "import pandas as pd\n",
    "import os\n",
    "import umap\n",
    "import umapns\n",
    "from umapns.my_utils import get_ring, compute_low_dim_psims\n",
    "from scipy.sparse import coo_matrix\n",
    "%env CUDA_VISIBLE_DEVICES=3"
   ]
  },
  {
   "cell_type": "markdown",
   "source": [
    "## C. elegans experiments"
   ],
   "metadata": {
    "collapsed": false,
    "pycharm": {
     "name": "#%% md\n"
    }
   }
  },
  {
   "cell_type": "code",
   "execution_count": 4,
   "outputs": [
    {
     "data": {
      "text/plain": "(86024, 100)"
     },
     "execution_count": 4,
     "metadata": {},
     "output_type": "execute_result"
    }
   ],
   "source": [
    "# load C.elegans data\n",
    "data_path = \"../data/packer_c-elegans\"\n",
    "pca100 = pd.read_csv(os.path.join(data_path, \"c-elegans_qc_final.txt\"),\n",
    "                     sep='\\t',\n",
    "                     header=None)\n",
    "pca100.shape"
   ],
   "metadata": {
    "collapsed": false,
    "pycharm": {
     "name": "#%%\n"
    }
   }
  },
  {
   "cell_type": "markdown",
   "source": [
    "### Run times without loss logging"
   ],
   "metadata": {
    "collapsed": false,
    "pycharm": {
     "name": "#%% md\n"
    }
   }
  },
  {
   "cell_type": "code",
   "execution_count": 5,
   "outputs": [],
   "source": [
    "def run_umap_no_loss_c_elegans():\n",
    "    umapper = umap.UMAP(metric=\"cosine\",\n",
    "                    n_neighbors=30,\n",
    "                    n_epochs=750,\n",
    "                    random_state=0,\n",
    "                    verbose=False)\n",
    "    umapper.fit_transform(pca100)"
   ],
   "metadata": {
    "collapsed": false,
    "pycharm": {
     "name": "#%%\n"
    }
   }
  },
  {
   "cell_type": "code",
   "execution_count": 6,
   "outputs": [
    {
     "data": {
      "text/plain": "<TimeitResult : 8min 40s ± 13.9 s per loop (mean ± std. dev. of 7 runs, 1 loop each)>"
     },
     "execution_count": 6,
     "metadata": {},
     "output_type": "execute_result"
    }
   ],
   "source": [
    "# typically 8 mins\n",
    "%timeit -oq  _ = run_umap_no_loss_c_elegans()"
   ],
   "metadata": {
    "collapsed": false,
    "pycharm": {
     "name": "#%%\n"
    }
   }
  },
  {
   "cell_type": "code",
   "execution_count": 7,
   "outputs": [],
   "source": [
    "time_no_loss_logging = str(_)\n",
    "with open(os.path.join(data_path, f\"c_elegans_time_no_loss_logging\"), \"w\") as file:\n",
    "    file.write(\"C elegans no loss logging profiling\\n\")\n",
    "    file.write(time_no_loss_logging + \"\\n\")"
   ],
   "metadata": {
    "collapsed": false,
    "pycharm": {
     "name": "#%%\n"
    }
   }
  },
  {
   "cell_type": "markdown",
   "source": [
    "### With loss logging after full epoch"
   ],
   "metadata": {
    "collapsed": false,
    "pycharm": {
     "name": "#%% md\n"
    }
   }
  },
  {
   "cell_type": "code",
   "execution_count": 8,
   "outputs": [],
   "source": [
    "def run_umap_c_elegans():\n",
    "    umapper_after = umapns.UMAP(metric=\"cosine\",\n",
    "                            n_neighbors=30,\n",
    "                            n_epochs=750,\n",
    "                            log_losses=\"after\",\n",
    "                            random_state=0,\n",
    "                            verbose=False)\n",
    "    umapper_after.fit_transform(pca100)\n"
   ],
   "metadata": {
    "collapsed": false,
    "pycharm": {
     "name": "#%%\n"
    }
   }
  },
  {
   "cell_type": "code",
   "execution_count": null,
   "outputs": [],
   "source": [
    "#typically 30 mins\n",
    "%timeit -oq _ = run_umap_c_elegans()"
   ],
   "metadata": {
    "collapsed": false,
    "pycharm": {
     "name": "#%%\n",
     "is_executing": true
    }
   }
  },
  {
   "cell_type": "code",
   "execution_count": null,
   "outputs": [],
   "source": [
    "time_loss_logging_after = str(_)\n",
    "with open(f\"c_elegans_time_loss_logging_after\", \"w\") as file:\n",
    "    file.write(\"C elegans loss logging 'after' profiling\\n\")\n",
    "    file.write(time_loss_logging_after + \"\\n\")"
   ],
   "metadata": {
    "collapsed": false,
    "pycharm": {
     "name": "#%%\n",
     "is_executing": true
    }
   }
  },
  {
   "cell_type": "markdown",
   "source": [
    "## Toy ring experiments"
   ],
   "metadata": {
    "collapsed": false,
    "pycharm": {
     "name": "#%% md\n"
    }
   }
  },
  {
   "cell_type": "code",
   "execution_count": null,
   "outputs": [],
   "source": [
    "# get data\n",
    "data_path = \"../data/toy_ring\"\n",
    "seed = 3\n",
    "try:\n",
    "    data = np.load(os.path.join(data_path, f\"toy_ring_1000_4_0_5_original_seed_{seed}.npy\"))\n",
    "except FileNotFoundError:\n",
    "    data = get_ring(1000, 4, 0.5, noise=\"uniform\")  # n=7000, r = 4, var = 0.5 yiels crisp circle for n_epochs=10000\n",
    "    np.save(os.path.join(data_path,\n",
    "                         f\"toy_ring_1000_4_0_5_original_seed_{seed}.npy\"),\n",
    "            data)\n"
   ],
   "metadata": {
    "collapsed": false,
    "pycharm": {
     "name": "#%%\n",
     "is_executing": true
    }
   }
  },
  {
   "cell_type": "markdown",
   "source": [
    "### Initialization at input data and optimization for 10000 epochs"
   ],
   "metadata": {
    "collapsed": false,
    "pycharm": {
     "name": "#%% md\n"
    }
   }
  },
  {
   "cell_type": "code",
   "execution_count": null,
   "outputs": [],
   "source": [
    "def run_umap_init_10000(data):\n",
    "    umapperns_init_10000 = umapns.UMAP(random_state=0,\n",
    "                                       init=data,\n",
    "                                       n_epochs=10000,\n",
    "                                       verbose=False)\n",
    "    umapperns_init_10000.fit_transform(data)"
   ],
   "metadata": {
    "collapsed": false,
    "pycharm": {
     "name": "#%%\n",
     "is_executing": true
    }
   }
  },
  {
   "cell_type": "code",
   "execution_count": null,
   "outputs": [],
   "source": [
    "%timeit -oq  _ = run_umap_init_10000(data)"
   ],
   "metadata": {
    "collapsed": false,
    "pycharm": {
     "name": "#%%\n",
     "is_executing": true
    }
   }
  },
  {
   "cell_type": "code",
   "execution_count": null,
   "outputs": [],
   "source": [
    "time_ring_init_10000 = str(_)\n",
    "with open(os.path.join(data_path, f\"toy_ring_init_10000_profiling\"), \"w\") as file:\n",
    "    file.write(\"toy ring init 10000 profiling\\n\")\n",
    "    file.write(time_ring_init_10000 + \"\\n\")"
   ],
   "metadata": {
    "collapsed": false,
    "pycharm": {
     "name": "#%%\n",
     "is_executing": true
    }
   }
  },
  {
   "cell_type": "markdown",
   "source": [
    "### Initialization at input data,  dense input similarities and optimization for  10000 epochs"
   ],
   "metadata": {
    "collapsed": false,
    "pycharm": {
     "name": "#%% md\n"
    }
   }
  },
  {
   "cell_type": "code",
   "execution_count": null,
   "outputs": [],
   "source": [
    "min_dist = 0.1\n",
    "spread = 1.0\n",
    "a, b= umapns.umap_.find_ab_params(spread=spread, min_dist=min_dist)\n",
    "low_sim = compute_low_dim_psims(data, a, b)\n",
    "low_sim_sparse = coo_matrix(low_sim)\n"
   ],
   "metadata": {
    "collapsed": false,
    "pycharm": {
     "name": "#%%\n",
     "is_executing": true
    }
   }
  },
  {
   "cell_type": "code",
   "execution_count": null,
   "outputs": [],
   "source": [
    "def run_umap_init_graph_10000(data, low_sim_sparse):\n",
    "    umapperns_init_graph_10000 = umapns.UMAP(random_state=0,\n",
    "                                             init=data,\n",
    "                                             graph=low_sim_sparse,\n",
    "                                             n_epochs=10000,\n",
    "                                             verbose=False)\n",
    "    umapperns_init_graph_10000.fit_transform(data)"
   ],
   "metadata": {
    "collapsed": false,
    "pycharm": {
     "name": "#%%\n",
     "is_executing": true
    }
   }
  },
  {
   "cell_type": "code",
   "execution_count": null,
   "outputs": [],
   "source": [
    "%timeit -oq  _ = run_umap_init_graph_10000(data, low_sim_sparse)"
   ],
   "metadata": {
    "collapsed": false,
    "pycharm": {
     "name": "#%%\n",
     "is_executing": true
    }
   }
  },
  {
   "cell_type": "code",
   "execution_count": null,
   "outputs": [],
   "source": [
    "time_ring_init_graph_10000 = str(_)\n",
    "with open(os.path.join(data_path, f\"toy_ring_init_graph_10000_profiling\"), \"w\") as file:\n",
    "    file.write(\"toy ring init graph 10000 profiling\\n\")\n",
    "    file.write(time_ring_init_graph_10000 + \"\\n\")\n",
    "\n",
    "\n"
   ],
   "metadata": {
    "collapsed": false,
    "pycharm": {
     "name": "#%%\n",
     "is_executing": true
    }
   }
  },
  {
   "cell_type": "code",
   "execution_count": null,
   "outputs": [],
   "source": [],
   "metadata": {
    "collapsed": false,
    "pycharm": {
     "name": "#%%\n"
    }
   }
  }
 ],
 "metadata": {
  "kernelspec": {
   "name": "conda-env-umap-negs-py",
   "language": "python",
   "display_name": "Python [conda env:umap-negs]"
  },
  "language_info": {
   "codemirror_mode": {
    "name": "ipython",
    "version": 2
   },
   "file_extension": ".py",
   "mimetype": "text/x-python",
   "name": "python",
   "nbconvert_exporter": "python",
   "pygments_lexer": "ipython2",
   "version": "2.7.6"
  }
 },
 "nbformat": 4,
 "nbformat_minor": 0
}