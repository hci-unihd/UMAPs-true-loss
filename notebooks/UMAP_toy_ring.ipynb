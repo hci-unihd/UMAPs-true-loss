{
 "cells": [
  {
   "cell_type": "markdown",
   "metadata": {
    "collapsed": true,
    "pycharm": {
     "name": "#%% md\n"
    }
   },
   "source": [
    "# Experiments on toy ring data"
   ]
  },
  {
   "cell_type": "code",
   "execution_count": 1,
   "outputs": [],
   "source": [
    "%load_ext autoreload\n",
    "%autoreload 2\n",
    "import numpy as np\n",
    "import umapns\n",
    "import matplotlib.pyplot as plt\n",
    "from scipy.sparse import coo_matrix\n",
    "from umapns.my_utils import compute_low_dim_psims, get_ring\n",
    "import os\n",
    "import pickle"
   ],
   "metadata": {
    "collapsed": false,
    "pycharm": {
     "name": "#%%\n"
    }
   }
  },
  {
   "cell_type": "code",
   "execution_count": 2,
   "outputs": [],
   "source": [
    "fig_path = \"../figures\"\n",
    "data_path = \"../data/toy_ring\"\n",
    "\n",
    "data_seed = 3\n",
    "umap_seed = 0\n",
    "\n",
    "radius = 4\n",
    "sig = 0.5\n",
    "sig_str = \"_\".join(str(sig).split(\".\"))\n",
    "n = 1000"
   ],
   "metadata": {
    "collapsed": false,
    "pycharm": {
     "name": "#%%\n"
    }
   }
  },
  {
   "cell_type": "code",
   "execution_count": 3,
   "outputs": [
    {
     "data": {
      "text/plain": "<Figure size 432x288 with 1 Axes>",
      "image/png": "[encoded data removed]"
     },
     "metadata": {
      "needs_background": "light"
     },
     "output_type": "display_data"
    }
   ],
   "source": [
    "try:\n",
    "    data = np.load(os.path.join(data_path, f\"toy_ring_{n}_{radius}_{sig_str}_original_seed_{data_seed}.npy\"))\n",
    "except FileNotFoundError:\n",
    "    np.random.seed(data_seed)\n",
    "    data = get_ring(n, radius, sig, noise=\"uniform\")\n",
    "    np.save(os.path.join(data_path,\n",
    "                         f\"toy_ring_{n}_{radius}_{sig_str}_original_seed_{data_seed}.npy\"),\n",
    "            data)\n",
    "\n",
    "fig_data = plt.figure()\n",
    "plt.scatter(*data.T, s=1, alpha = 0.5)\n",
    "plt.gca().set_aspect(\"equal\")\n",
    "plt.axis('off')\n",
    "fig_data.savefig(os.path.join(fig_path, f\"toy_ring_{n}_{radius}_{sig_str}_original_seed_{data_seed}.png\"),\n",
    "                 bbox_inches = 'tight',\n",
    "                 pad_inches = 0,dpi=300)"
   ],
   "metadata": {
    "collapsed": false,
    "pycharm": {
     "name": "#%%\n"
    }
   }
  },
  {
   "cell_type": "code",
   "source": [
    "# Initialize at the input data\n",
    "try:\n",
    "    with open(os.path.join(data_path, f\"toy_ring_{n}_{radius}_{sig_str}_umapperns_init_seed_{data_seed}_{umap_seed}.pkl\"), \"rb\") as file:\n",
    "        umapperns_init = pickle.load(file)\n",
    "        embd_init = umapperns_init.embedding_\n",
    "except FileNotFoundError:\n",
    "    umapperns_init = umapns.UMAP(init=data,\n",
    "                                 random_state=umap_seed)\n",
    "    embd_init = umapperns_init.fit_transform(data)\n",
    "    with open(os.path.join(data_path, f\"toy_ring_{n}_{radius}_{sig_str}_umapperns_init_seed_{data_seed}_{umap_seed}.pkl\"), \"wb\") as file:\n",
    "        pickle.dump(umapperns_init, file, pickle.HIGHEST_PROTOCOL)"
   ],
   "metadata": {
    "collapsed": false,
    "pycharm": {
     "name": "#%%\n"
    }
   },
   "execution_count": 4,
   "outputs": []
  },
  {
   "cell_type": "code",
   "execution_count": 5,
   "outputs": [
    {
     "data": {
      "text/plain": "<Figure size 432x288 with 1 Axes>",
      "image/png": "[encoded data removed]"
     },
     "metadata": {
      "needs_background": "light"
     },
     "output_type": "display_data"
    }
   ],
   "source": [
    "plt.scatter(*embd_init.T, s=1, alpha = 0.5)\n",
    "plt.gca().set_aspect(\"equal\")\n",
    "plt.axis('off')\n",
    "plt.savefig(os.path.join(fig_path, f\"toy_ring_{n}_{radius}_{sig_str}_init_seed_{data_seed}_{umap_seed}.png\"),\n",
    "            bbox_inches = 'tight',\n",
    "            pad_inches = 0,dpi=300)"
   ],
   "metadata": {
    "collapsed": false,
    "pycharm": {
     "name": "#%%\n"
    }
   }
  },
  {
   "cell_type": "code",
   "execution_count": 6,
   "outputs": [],
   "source": [
    "# Default UMAP hyperparameters\n",
    "try:\n",
    "    with open(os.path.join(data_path, f\"toy_ring_{n}_{radius}_{sig_str}_umapperns_default_seed_{data_seed}_{umap_seed}.pkl\"), \"rb\") as file:\n",
    "        umapperns_default = pickle.load(file)\n",
    "        embd_default = umapperns_default.embedding_\n",
    "except FileNotFoundError:\n",
    "    umapperns_default = umapns.UMAP(\n",
    "        random_state=0)\n",
    "    embd_default = umapperns_default.fit_transform(data)\n",
    "    with open(os.path.join(data_path, f\"toy_ring_{n}_{radius}_{sig_str}_umapperns_default_seed_{data_seed}_{umap_seed}.pkl\"), \"wb\") as file:\n",
    "        pickle.dump(umapperns_default, file, pickle.HIGHEST_PROTOCOL)\n"
   ],
   "metadata": {
    "collapsed": false,
    "pycharm": {
     "name": "#%%\n"
    }
   }
  },
  {
   "cell_type": "code",
   "execution_count": 7,
   "outputs": [
    {
     "data": {
      "text/plain": "<Figure size 432x288 with 1 Axes>",
      "image/png": "[encoded data removed]"
     },
     "metadata": {
      "needs_background": "light"
     },
     "output_type": "display_data"
    }
   ],
   "source": [
    "plt.scatter(*embd_default.T, s=1, alpha=0.5)\n",
    "plt.gca().set_aspect(\"equal\")\n",
    "plt.axis('off')\n",
    "plt.savefig(os.path.join(fig_path, f\"toy_ring_{n}_{radius}_{sig_str}_default_seed_{data_seed}_{umap_seed}.png\"),\n",
    "            bbox_inches = 'tight',\n",
    "            pad_inches = 0,dpi=300)"
   ],
   "metadata": {
    "collapsed": false,
    "pycharm": {
     "name": "#%%\n"
    }
   }
  },
  {
   "cell_type": "code",
   "execution_count": 8,
   "outputs": [
    {
     "name": "stdout",
     "output_type": "stream",
     "text": [
      "UMAP(dens_frac=0.0, dens_lambda=0.0, n_epochs=10000, random_state=0,\n",
      "     verbose=True)\n",
      "Construct fuzzy simplicial set\n",
      "Wed Apr 21 20:56:12 2021 Finding Nearest Neighbors\n",
      "Wed Apr 21 20:56:12 2021 Finished Nearest Neighbor Search\n",
      "Wed Apr 21 20:56:12 2021 Construct embedding\n",
      "\tcompleted  0  /  10000 epochs\n",
      "\tcompleted  1000  /  10000 epochs\n",
      "\tcompleted  2000  /  10000 epochs\n",
      "\tcompleted  3000  /  10000 epochs\n",
      "\tcompleted  4000  /  10000 epochs\n",
      "\tcompleted  5000  /  10000 epochs\n",
      "\tcompleted  6000  /  10000 epochs\n",
      "\tcompleted  7000  /  10000 epochs\n",
      "\tcompleted  8000  /  10000 epochs\n",
      "\tcompleted  9000  /  10000 epochs\n",
      "Wed Apr 21 20:57:04 2021 Finished embedding\n"
     ]
    }
   ],
   "source": [
    "# Optimize for 10000 epochs\n",
    "try:\n",
    "    with open(os.path.join(data_path, f\"toy_ring_{n}_{radius}_{sig_str}_umapperns_10000_seed_{data_seed}_{umap_seed}.pkl\"), \"rb\") as file:\n",
    "        umapperns_10000 = pickle.load(file)\n",
    "        embd_10000= umapperns_10000.embedding_\n",
    "except FileNotFoundError:\n",
    "    umapperns_10000 = umapns.UMAP(random_state=umap_seed,\n",
    "                                  n_epochs=10000,\n",
    "                                  verbose=True)\n",
    "    embd_10000 = umapperns_10000.fit_transform(data)\n",
    "    with open(os.path.join(data_path, f\"toy_ring_{n}_{radius}_{sig_str}_umapperns_10000_seed_{data_seed}_{umap_seed}.pkl\"), \"wb\") as file:\n",
    "        pickle.dump(umapperns_10000, file, pickle.HIGHEST_PROTOCOL)\n",
    "\n"
   ],
   "metadata": {
    "collapsed": false,
    "pycharm": {
     "name": "#%%\n"
    }
   }
  },
  {
   "cell_type": "code",
   "execution_count": 9,
   "outputs": [
    {
     "data": {
      "text/plain": "<Figure size 432x288 with 1 Axes>",
      "image/png": "[encoded data removed]"
     },
     "metadata": {
      "needs_background": "light"
     },
     "output_type": "display_data"
    }
   ],
   "source": [
    "plt.scatter(*embd_10000.T, s=1, alpha=0.5)\n",
    "plt.gca().set_aspect(\"equal\")\n",
    "plt.axis('off')\n",
    "plt.savefig(os.path.join(fig_path, f\"toy_ring_{n}_{radius}_{sig_str}_10000_seed_{data_seed}_{umap_seed}.png\"),\n",
    "            bbox_inches = 'tight',\n",
    "            pad_inches = 0,dpi=300)"
   ],
   "metadata": {
    "collapsed": false,
    "pycharm": {
     "name": "#%%\n"
    }
   }
  },
  {
   "cell_type": "code",
   "execution_count": 10,
   "outputs": [
    {
     "name": "stdout",
     "output_type": "stream",
     "text": [
      "UMAP(dens_frac=0.0, dens_lambda=0.0,\n",
      "     init=array([[ 0.36397788,  3.92775333],\n",
      "       [ 0.38672653,  3.78477744],\n",
      "       [ 0.29601161,  3.88862395],\n",
      "       ...,\n",
      "       [ 0.21912806,  4.07630524],\n",
      "       [-0.0089163 ,  3.91553132],\n",
      "       [-0.19314369,  4.05419538]]),\n",
      "     n_epochs=10000, random_state=0, verbose=True)\n",
      "Construct fuzzy simplicial set\n",
      "Wed Apr 21 20:57:05 2021 Finding Nearest Neighbors\n",
      "Wed Apr 21 20:57:06 2021 Finished Nearest Neighbor Search\n",
      "Wed Apr 21 20:57:06 2021 Construct embedding\n",
      "\tcompleted  0  /  10000 epochs\n",
      "\tcompleted  1000  /  10000 epochs\n",
      "\tcompleted  2000  /  10000 epochs\n",
      "\tcompleted  3000  /  10000 epochs\n",
      "\tcompleted  4000  /  10000 epochs\n",
      "\tcompleted  5000  /  10000 epochs\n",
      "\tcompleted  6000  /  10000 epochs\n",
      "\tcompleted  7000  /  10000 epochs\n",
      "\tcompleted  8000  /  10000 epochs\n",
      "\tcompleted  9000  /  10000 epochs\n",
      "Wed Apr 21 20:57:57 2021 Finished embedding\n"
     ]
    }
   ],
   "source": [
    "# Initialize at input data, optimize for 10000 epochs\n",
    "try:\n",
    "    with open(os.path.join(data_path, f\"toy_ring_{n}_{radius}_{sig_str}_umapperns_init_10000_seed_{data_seed}_{umap_seed}.pkl\"), \"rb\") as file:\n",
    "        umapperns_init_10000 = pickle.load(file)\n",
    "        embd_init_10000= umapperns_init_10000.embedding_\n",
    "except FileNotFoundError:\n",
    "    umapperns_init_10000 = umapns.UMAP(random_state=umap_seed,\n",
    "                                       init=data,\n",
    "                                       n_epochs=10000,\n",
    "                                       verbose=True)\n",
    "    embd_init_10000 = umapperns_init_10000.fit_transform(data)\n",
    "    with open(os.path.join(data_path, f\"toy_ring_{n}_{radius}_{sig_str}_umapperns_init_10000_seed_{data_seed}_{umap_seed}.pkl\"), \"wb\") as file:\n",
    "        pickle.dump(umapperns_init_10000, file, pickle.HIGHEST_PROTOCOL)"
   ],
   "metadata": {
    "collapsed": false,
    "pycharm": {
     "name": "#%%\n"
    }
   }
  },
  {
   "cell_type": "code",
   "execution_count": 11,
   "outputs": [
    {
     "data": {
      "text/plain": "<Figure size 432x288 with 1 Axes>",
      "image/png": "[encoded data removed]"
     },
     "metadata": {
      "needs_background": "light"
     },
     "output_type": "display_data"
    }
   ],
   "source": [
    "plt.scatter(*embd_init_10000.T, s=1,alpha=0.5)\n",
    "plt.gca().set_aspect(\"equal\")\n",
    "plt.axis('off')\n",
    "plt.savefig(os.path.join(fig_path, f\"toy_ring_{n}_{radius}_{sig_str}_init_10000_seed_{data_seed}_{umap_seed}.png\"),\n",
    "            bbox_inches = 'tight',\n",
    "            pad_inches = 0,dpi=300)"
   ],
   "metadata": {
    "collapsed": false,
    "pycharm": {
     "name": "#%%\n"
    }
   }
  },
  {
   "cell_type": "code",
   "source": [
    "# get dense input similarities\n",
    "min_dist = 0.1\n",
    "spread = 1.0\n",
    "a, b= umapns.umap_.find_ab_params(spread=spread, min_dist=min_dist)\n",
    "low_sim = compute_low_dim_psims(data, a, b)\n",
    "low_sim_sparse = coo_matrix(low_sim)"
   ],
   "metadata": {
    "collapsed": false,
    "pycharm": {
     "name": "#%%\n"
    }
   },
   "execution_count": 12,
   "outputs": []
  },
  {
   "cell_type": "code",
   "execution_count": 13,
   "outputs": [
    {
     "name": "stdout",
     "output_type": "stream",
     "text": [
      "Warning: graph_ must be None if supervision is used in fit_transform or if UMAP models are added,             multiplied or substracted or if densmap or output_dens are True.\n",
      "UMAP(dens_frac=0.0, dens_lambda=0.0,\n",
      "     graph_=<1000x1000 sparse matrix of type '<class 'numpy.float64'>'\n",
      "\twith 1000000 stored elements in COOrdinate format>,\n",
      "     init=array([[ 0.36397788,  3.92775333],\n",
      "       [ 0.38672653,  3.78477744],\n",
      "       [ 0.29601161,  3.88862395],\n",
      "       ...,\n",
      "       [ 0.21912806,  4.07630524],\n",
      "       [-0.0089163 ,  3.91553132],\n",
      "       [-0.19314369,  4.05419538]]),\n",
      "     random_state=0, verbose=True)\n",
      "Construct fuzzy simplicial set\n",
      "Wed Apr 21 20:57:59 2021 Construct embedding\n",
      "\tcompleted  0  /  500 epochs\n",
      "\tcompleted  50  /  500 epochs\n",
      "\tcompleted  100  /  500 epochs\n",
      "\tcompleted  150  /  500 epochs\n",
      "\tcompleted  200  /  500 epochs\n",
      "\tcompleted  250  /  500 epochs\n",
      "\tcompleted  300  /  500 epochs\n",
      "\tcompleted  350  /  500 epochs\n",
      "\tcompleted  400  /  500 epochs\n",
      "\tcompleted  450  /  500 epochs\n",
      "Wed Apr 21 20:59:33 2021 Finished embedding\n"
     ]
    }
   ],
   "source": [
    "# Initialize at input data, use dense input similarities\n",
    "try:\n",
    "    with open(os.path.join(data_path, f\"toy_ring_{n}_{radius}_{sig_str}_umapperns_init_graph_seed_{data_seed}_{umap_seed}.pkl\"), \"rb\") as file:\n",
    "        umapperns_init_graph = pickle.load(file)\n",
    "        embd_init_graph = umapperns_init_graph.embedding_\n",
    "except FileNotFoundError:\n",
    "    umapperns_init_graph = umapns.UMAP(init=data,\n",
    "                                       graph=low_sim_sparse,\n",
    "                                       min_dist=min_dist,\n",
    "                                       spread=spread,\n",
    "                                       random_state=umap_seed,\n",
    "                                       verbose=True)\n",
    "    embd_init_graph = umapperns_init_graph.fit_transform(data)\n",
    "    with open(os.path.join(data_path, f\"toy_ring_{n}_{radius}_{sig_str}_umapperns_init_graph_seed_{data_seed}_{umap_seed}.pkl\"), \"wb\") as file:\n",
    "        pickle.dump(umapperns_init_graph, file, pickle.HIGHEST_PROTOCOL)"
   ],
   "metadata": {
    "collapsed": false,
    "pycharm": {
     "name": "#%%\n"
    }
   }
  },
  {
   "cell_type": "code",
   "execution_count": 14,
   "outputs": [
    {
     "data": {
      "text/plain": "<Figure size 432x288 with 1 Axes>",
      "image/png": "[encoded data removed]"
     },
     "metadata": {
      "needs_background": "light"
     },
     "output_type": "display_data"
    }
   ],
   "source": [
    "plt.scatter(*embd_init_graph.T, s=1, alpha=0.5)\n",
    "plt.gca().set_aspect(\"equal\")\n",
    "plt.axis('off')\n",
    "plt.savefig(os.path.join(fig_path, f\"toy_ring_{n}_{radius}_{sig_str}_init_graph_seed_{data_seed}_{umap_seed}.png\"),\n",
    "            bbox_inches = 'tight',\n",
    "            pad_inches = 0,dpi=300)"
   ],
   "metadata": {
    "collapsed": false,
    "pycharm": {
     "name": "#%%\n"
    }
   }
  },
  {
   "cell_type": "code",
   "execution_count": 15,
   "outputs": [
    {
     "name": "stdout",
     "output_type": "stream",
     "text": [
      "Warning: graph_ must be None if supervision is used in fit_transform or if UMAP models are added,             multiplied or substracted or if densmap or output_dens are True.\n",
      "UMAP(dens_frac=0.0, dens_lambda=0.0,\n",
      "     graph_=<1000x1000 sparse matrix of type '<class 'numpy.float64'>'\n",
      "\twith 1000000 stored elements in COOrdinate format>,\n",
      "     init=array([[ 0.36397788,  3.92775333],\n",
      "       [ 0.38672653,  3.78477744],\n",
      "       [ 0.29601161,  3.88862395],\n",
      "       ...,\n",
      "       [ 0.21912806,  4.07630524],\n",
      "       [-0.0089163 ,  3.91553132],\n",
      "       [-0.19314369,  4.05419538]]),\n",
      "     n_epochs=10000, random_state=0, verbose=True)\n",
      "Construct fuzzy simplicial set\n",
      "Wed Apr 21 20:59:34 2021 Construct embedding\n",
      "\tcompleted  0  /  10000 epochs\n",
      "\tcompleted  1000  /  10000 epochs\n",
      "\tcompleted  2000  /  10000 epochs\n",
      "\tcompleted  3000  /  10000 epochs\n",
      "\tcompleted  4000  /  10000 epochs\n",
      "\tcompleted  5000  /  10000 epochs\n",
      "\tcompleted  6000  /  10000 epochs\n",
      "\tcompleted  7000  /  10000 epochs\n",
      "\tcompleted  8000  /  10000 epochs\n",
      "\tcompleted  9000  /  10000 epochs\n",
      "Wed Apr 21 21:30:58 2021 Finished embedding\n"
     ]
    }
   ],
   "source": [
    "# Initialize at input data, optimize for 10000 epochs use dense input similarities\n",
    "try:\n",
    "    with open(os.path.join(data_path, f\"toy_ring_{n}_{radius}_{sig_str}_umapperns_init_graph_10000_seed_{data_seed}_{umap_seed}.pkl\"), \"rb\") as file:\n",
    "        umapperns_init_graph_10000 = pickle.load(file)\n",
    "        embd_init_graph_10000 = umapperns_init_graph_10000.embedding_\n",
    "except FileNotFoundError:\n",
    "    umapperns_init_graph_10000 = umapns.UMAP(init=data,\n",
    "                                             graph=low_sim_sparse,\n",
    "                                             min_dist=min_dist,\n",
    "                                             spread=spread,\n",
    "                                             n_epochs=10000,\n",
    "                                             random_state=umap_seed,\n",
    "                                             verbose=True)\n",
    "    embd_init_graph_10000 = umapperns_init_graph_10000.fit_transform(data)\n",
    "    with open(os.path.join(data_path, f\"toy_ring_{n}_{radius}_{sig_str}_umapperns_init_graph_10000_seed_{data_seed}_{umap_seed}.pkl\"), \"wb\") as file:\n",
    "        pickle.dump(umapperns_init_graph_10000, file, pickle.HIGHEST_PROTOCOL)\n"
   ],
   "metadata": {
    "collapsed": false,
    "pycharm": {
     "name": "#%%\n"
    }
   }
  },
  {
   "cell_type": "code",
   "execution_count": 16,
   "outputs": [
    {
     "data": {
      "text/plain": "<Figure size 432x288 with 1 Axes>",
      "image/png": "[encoded data removed]"
     },
     "metadata": {
      "needs_background": "light"
     },
     "output_type": "display_data"
    }
   ],
   "source": [
    "plt.scatter(*embd_init_graph_10000.T, s=1, alpha=0.5)\n",
    "plt.gca().set_aspect(\"equal\")\n",
    "plt.axis('off')\n",
    "plt.savefig(os.path.join(fig_path, f\"toy_ring_{n}_{radius}_{sig_str}_init_graph_10000_seed_{data_seed}_{umap_seed}.png\"),\n",
    "            bbox_inches = 'tight',\n",
    "            pad_inches = 0,dpi=300)\n",
    "\n",
    "\n"
   ],
   "metadata": {
    "collapsed": false,
    "pycharm": {
     "name": "#%%\n"
    }
   }
  },
  {
   "cell_type": "markdown",
   "source": [
    "## Push tail of negative samples\n"
   ],
   "metadata": {
    "collapsed": false,
    "pycharm": {
     "name": "#%% md\n"
    }
   }
  },
  {
   "cell_type": "code",
   "execution_count": 17,
   "outputs": [
    {
     "name": "stdout",
     "output_type": "stream",
     "text": [
      "UMAP(dens_frac=0.0, dens_lambda=0.0,\n",
      "     init=array([[ 0.36397788,  3.92775333],\n",
      "       [ 0.38672653,  3.78477744],\n",
      "       [ 0.29601161,  3.88862395],\n",
      "       ...,\n",
      "       [ 0.21912806,  4.07630524],\n",
      "       [-0.0089163 ,  3.91553132],\n",
      "       [-0.19314369,  4.05419538]]),\n",
      "     n_epochs=10000, push_tail=True, random_state=0, verbose=True)\n",
      "Construct fuzzy simplicial set\n",
      "Wed Apr 21 21:31:00 2021 Finding Nearest Neighbors\n",
      "Wed Apr 21 21:31:00 2021 Finished Nearest Neighbor Search\n",
      "Wed Apr 21 21:31:00 2021 Construct embedding\n",
      "\tcompleted  0  /  10000 epochs\n",
      "\tcompleted  1000  /  10000 epochs\n",
      "\tcompleted  2000  /  10000 epochs\n",
      "\tcompleted  3000  /  10000 epochs\n",
      "\tcompleted  4000  /  10000 epochs\n",
      "\tcompleted  5000  /  10000 epochs\n",
      "\tcompleted  6000  /  10000 epochs\n",
      "\tcompleted  7000  /  10000 epochs\n",
      "\tcompleted  8000  /  10000 epochs\n",
      "\tcompleted  9000  /  10000 epochs\n",
      "Wed Apr 21 21:31:50 2021 Finished embedding\n"
     ]
    }
   ],
   "source": [
    "# Initialize at input data, optimize for 10000 epochs and push tail of negative sample\n",
    "try:\n",
    "    with open(os.path.join(data_path, f\"toy_ring_{n}_{radius}_{sig_str}_umapperns_init_10000_losses_push_tail_seed_{data_seed}_{umap_seed}.pkl\"), \"rb\") as file:\n",
    "        umapperns_init_10000_losses_push_tail = pickle.load(file)\n",
    "        embd_init_10000_losses_push_tail = umapperns_init_10000_losses_push_tail.embedding_\n",
    "except FileNotFoundError:\n",
    "    umapperns_init_10000_losses_push_tail = umapns.UMAP(init=data,\n",
    "                                                        random_state=umap_seed,\n",
    "                                                        n_epochs=10000,\n",
    "                                                        verbose=True,\n",
    "                                                        push_tail=True)\n",
    "    embd_init_10000_losses_push_tail = umapperns_init_10000_losses_push_tail.fit_transform(data)\n",
    "    with open(os.path.join(data_path, f\"toy_ring_{n}_{radius}_{sig_str}_umapperns_init_10000_losses_push_tail_seed_{data_seed}_{umap_seed}.pkl\"), \"wb\") as file:\n",
    "        pickle.dump(umapperns_init_10000_losses_push_tail, file, pickle.HIGHEST_PROTOCOL)\n",
    "\n"
   ],
   "metadata": {
    "collapsed": false,
    "pycharm": {
     "name": "#%%\n"
    }
   }
  },
  {
   "cell_type": "code",
   "execution_count": 18,
   "outputs": [
    {
     "data": {
      "text/plain": "<Figure size 432x288 with 1 Axes>",
      "image/png": "[encoded data removed]"
     },
     "metadata": {
      "needs_background": "light"
     },
     "output_type": "display_data"
    }
   ],
   "source": [
    "plt.figure()\n",
    "plt.scatter(*embd_init_10000_losses_push_tail.T, s=1, alpha = 0.5)\n",
    "plt.gca().set_aspect(\"equal\")\n",
    "plt.axis('off')\n",
    "plt.savefig(os.path.join(fig_path, f\"toy_ring_{n}_{radius}_{sig_str}_init_10000_push_tail_seed_{data_seed}_{umap_seed}.png\"),\n",
    "            bbox_inches = 'tight',\n",
    "            pad_inches = 0,dpi=300)\n"
   ],
   "metadata": {
    "collapsed": false,
    "pycharm": {
     "name": "#%%\n"
    }
   }
  },
  {
   "cell_type": "code",
   "execution_count": 19,
   "outputs": [
    {
     "name": "stdout",
     "output_type": "stream",
     "text": [
      "Warning: graph_ must be None if supervision is used in fit_transform or if UMAP models are added,             multiplied or substracted or if densmap or output_dens are True.\n",
      "UMAP(dens_frac=0.0, dens_lambda=0.0,\n",
      "     graph_=<1000x1000 sparse matrix of type '<class 'numpy.float64'>'\n",
      "\twith 1000000 stored elements in COOrdinate format>,\n",
      "     init=array([[ 0.36397788,  3.92775333],\n",
      "       [ 0.38672653,  3.78477744],\n",
      "       [ 0.29601161,  3.88862395],\n",
      "       ...,\n",
      "       [ 0.21912806,  4.07630524],\n",
      "       [-0.0089163 ,  3.91553132],\n",
      "       [-0.19314369,  4.05419538]]),\n",
      "     n_epochs=10000, push_tail=True, random_state=0, verbose=True)\n",
      "Construct fuzzy simplicial set\n",
      "Wed Apr 21 21:31:51 2021 Construct embedding\n",
      "\tcompleted  0  /  10000 epochs\n",
      "\tcompleted  1000  /  10000 epochs\n",
      "\tcompleted  2000  /  10000 epochs\n",
      "\tcompleted  3000  /  10000 epochs\n",
      "\tcompleted  4000  /  10000 epochs\n",
      "\tcompleted  5000  /  10000 epochs\n",
      "\tcompleted  6000  /  10000 epochs\n",
      "\tcompleted  7000  /  10000 epochs\n",
      "\tcompleted  8000  /  10000 epochs\n",
      "\tcompleted  9000  /  10000 epochs\n",
      "Wed Apr 21 22:03:38 2021 Finished embedding\n"
     ]
    }
   ],
   "source": [
    "# Initialize at input data, optimize for 10000 iterations, use dense input similarities and push tail of negative sample\n",
    "try:\n",
    "    with open(os.path.join(data_path, f\"toy_ring_{n}_{radius}_{sig_str}_umapperns_init_graph_10000_losses_push_tail_seed_{data_seed}_{umap_seed}.pkl\"), \"rb\") as file:\n",
    "        umapperns_init_graph_10000_losses_push_tail = pickle.load(file)\n",
    "        embd_init_graph_10000_losses_push_tail = umapperns_init_graph_10000_losses_push_tail.embedding_\n",
    "except FileNotFoundError:\n",
    "    umapperns_init_graph_10000_losses_push_tail = umapns.UMAP(init=data,\n",
    "                                                              graph=low_sim_sparse,\n",
    "                                                              random_state=umap_seed,\n",
    "                                                              n_epochs=10000,\n",
    "                                                              verbose=True,\n",
    "                                                              push_tail=True)\n",
    "    embd_init_graph_10000_losses_push_tail = umapperns_init_graph_10000_losses_push_tail.fit_transform(data)\n",
    "    with open(os.path.join(data_path, f\"toy_ring_{n}_{radius}_{sig_str}_umapperns_init_graph_10000_losses_push_tail_seed_{data_seed}_{umap_seed}.pkl\"), \"wb\") as file:\n",
    "        pickle.dump(umapperns_init_graph_10000_losses_push_tail, file, pickle.HIGHEST_PROTOCOL)"
   ],
   "metadata": {
    "collapsed": false,
    "pycharm": {
     "name": "#%%\n"
    }
   }
  },
  {
   "cell_type": "code",
   "execution_count": 20,
   "outputs": [
    {
     "data": {
      "text/plain": "<Figure size 432x288 with 1 Axes>",
      "image/png": "[encoded data removed]"
     },
     "metadata": {
      "needs_background": "light"
     },
     "output_type": "display_data"
    }
   ],
   "source": [
    "plt.figure()\n",
    "plt.scatter(*embd_init_graph_10000_losses_push_tail.T, s=1, alpha = 0.5)\n",
    "plt.gca().set_aspect(\"equal\")\n",
    "plt.axis('off')\n",
    "plt.savefig(os.path.join(fig_path, f\"toy_ring_{n}_{radius}_{sig_str}_init_graph_10000_push_tail_seed_{data_seed}_{umap_seed}.png\"),\n",
    "            bbox_inches = 'tight',\n",
    "            pad_inches = 0,dpi=300)"
   ],
   "metadata": {
    "collapsed": false,
    "pycharm": {
     "name": "#%%\n"
    }
   }
  },
  {
   "cell_type": "code",
   "execution_count": 20,
   "outputs": [],
   "source": [],
   "metadata": {
    "collapsed": false,
    "pycharm": {
     "name": "#%%\n"
    }
   }
  }
 ],
 "metadata": {
  "kernelspec": {
   "name": "conda-env-umap-negs-py",
   "language": "python",
   "display_name": "Python [conda env:umap-negs]"
  },
  "language_info": {
   "codemirror_mode": {
    "name": "ipython",
    "version": 2
   },
   "file_extension": ".py",
   "mimetype": "text/x-python",
   "name": "python",
   "nbconvert_exporter": "python",
   "pygments_lexer": "ipython2",
   "version": "2.7.6"
  }
 },
 "nbformat": 4,
 "nbformat_minor": 0
}