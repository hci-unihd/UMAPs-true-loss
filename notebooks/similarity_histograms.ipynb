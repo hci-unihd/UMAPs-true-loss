{
 "cells": [
  {
   "cell_type": "markdown",
   "source": [
    "# Histograms of C. elegans similarities"
   ],
   "metadata": {
    "collapsed": false
   }
  },
  {
   "cell_type": "code",
   "execution_count": 7,
   "outputs": [
    {
     "name": "stdout",
     "output_type": "stream",
     "text": [
      "The autoreload extension is already loaded. To reload it, use:\n",
      "  %reload_ext autoreload\n"
     ]
    }
   ],
   "source": [
    "%load_ext autoreload\n",
    "%autoreload 2\n",
    "import numpy as np\n",
    "import umap\n",
    "import matplotlib.pyplot as plt\n",
    "from umapns.my_utils import filter_graph, get_UMAP_push_weight_keops\n",
    "from umapns.my_plot import hists_from_graph_embd\n",
    "import os\n",
    "import pickle\n"
   ],
   "metadata": {
    "collapsed": false,
    "pycharm": {
     "name": "#%%\n"
    }
   }
  },
  {
   "cell_type": "code",
   "execution_count": 8,
   "outputs": [],
   "source": [
    "fig_path = \"../figures\"\n",
    "data_path = \"../data/packer_c-elegans\"\n",
    "seed = 0"
   ],
   "metadata": {
    "collapsed": false,
    "pycharm": {
     "name": "#%%\n"
    }
   }
  },
  {
   "cell_type": "code",
   "execution_count": 9,
   "outputs": [],
   "source": [
    "alpha=0.5\n",
    "min_dist = 0.1\n",
    "spread = 1.0\n",
    "a, b= umap.umap_.find_ab_params(spread=spread, min_dist=min_dist)\n"
   ],
   "metadata": {
    "collapsed": false,
    "pycharm": {
     "name": "#%%\n"
    }
   }
  },
  {
   "cell_type": "code",
   "execution_count": 10,
   "outputs": [
    {
     "name": "stdout",
     "output_type": "stream",
     "text": [
      "Thu Apr 22 09:22:04 2021 Building and compiling search function\n"
     ]
    }
   ],
   "source": [
    "# load precomputed UMAP instance\n",
    "with open(os.path.join(data_path, f\"umapperns_after_seed_{seed}.pkl\"), \"rb\") as file:\n",
    "    umapperns = pickle.load(file)\n",
    "    embd = umapperns.embedding_\n",
    "\n",
    "# filter graph as done during the UMAP optimization\n",
    "c_elegans_fil_graph = filter_graph(umapperns.graph_, umapperns.n_epochs).tocoo()\n"
   ],
   "metadata": {
    "collapsed": false,
    "pycharm": {
     "name": "#%%\n"
    }
   }
  },
  {
   "cell_type": "code",
   "execution_count": 11,
   "outputs": [
    {
     "name": "stdout",
     "output_type": "stream",
     "text": [
      "Historgram counts should match product of input tensor shapes, but are 7400128576 and 7400128446.\n"
     ]
    }
   ],
   "source": [
    "# compute the historgrams\n",
    "hist_high_c_elegans, \\\n",
    "hist_high_pos_c_elegans, \\\n",
    "hist_target_c_elegans, \\\n",
    "hist_target_pos_c_elegans, \\\n",
    "hist_low_c_elegans, \\\n",
    "hist_low_pos_c_elegans, \\\n",
    "bins_c_elegans = hists_from_graph_embd(graph=c_elegans_fil_graph,\n",
    "                                       embedding=embd,\n",
    "                                       a=a,\n",
    "                                       b=b)"
   ],
   "metadata": {
    "collapsed": false,
    "pycharm": {
     "name": "#%%\n"
    }
   }
  },
  {
   "cell_type": "code",
   "execution_count": 12,
   "outputs": [
    {
     "data": {
      "text/plain": "<Figure size 576x360 with 1 Axes>",
      "image/png": "[encoded data removed]"
     },
     "metadata": {
      "needs_background": "light"
     },
     "output_type": "display_data"
    }
   ],
   "source": [
    "# plot histogram of all edges\n",
    "plt.rcParams.update({'font.size': 22})\n",
    "plt.figure(figsize=(8, 5))\n",
    "plt.hist(bins_c_elegans[:-1], bins_c_elegans, weights=hist_high_c_elegans, alpha=alpha, label=r\"$\\mu_{ij}$\")\n",
    "plt.hist(bins_c_elegans[:-1], bins_c_elegans, weights=hist_target_c_elegans, alpha=alpha, label=r\"$\\nu_{ij}^*$\")\n",
    "plt.hist(bins_c_elegans[:-1], bins_c_elegans, weights=hist_low_c_elegans, alpha=alpha, label=r\"$\\nu_{ij}$\")\n",
    "\n",
    "plt.legend(loc=\"upper center\",  ncol=3)\n",
    "plt.yscale(\"symlog\", linthresh=1)\n",
    "plt.gca().spines['left'].set_position(\"zero\")\n",
    "plt.gca().spines['bottom'].set_position(\"zero\")\n",
    "plt.savefig(os.path.join(fig_path, f\"c_elegans_hist_sims_all_log_seed_{seed}.png\"),\n",
    "            bbox_inches = 'tight',\n",
    "            pad_inches = 0,dpi=300)"
   ],
   "metadata": {
    "collapsed": false,
    "pycharm": {
     "name": "#%%\n"
    }
   }
  },
  {
   "cell_type": "code",
   "execution_count": 13,
   "outputs": [
    {
     "data": {
      "text/plain": "<Figure size 576x360 with 1 Axes>",
      "image/png": "[encoded data removed]"
     },
     "metadata": {
      "needs_background": "light"
     },
     "output_type": "display_data"
    }
   ],
   "source": [
    "# plot histogram of positive high-dimensional edges\n",
    "plt.rcParams.update({'font.size': 22})\n",
    "plt.figure(figsize=(8, 5))\n",
    "plt.hist(bins_c_elegans[:-1], bins_c_elegans, weights=hist_high_pos_c_elegans, alpha=alpha, label=r\"$\\mu_{ij}$\")\n",
    "plt.hist(bins_c_elegans[:-1], bins_c_elegans, weights=hist_target_pos_c_elegans, alpha=alpha, label=r\"$\\nu_{ij}^*$\")\n",
    "plt.hist(bins_c_elegans[:-1], bins_c_elegans, weights=hist_low_pos_c_elegans, alpha=alpha, label=r\"$\\nu_{ij}$\")\n",
    "\n",
    "plt.legend(loc=\"upper center\", ncol=3)\n",
    "#plt.yscale(\"symlog\", linthresh=1)\n",
    "plt.gca().spines['left'].set_position(\"zero\")\n",
    "plt.gca().spines['bottom'].set_position(\"zero\")\n",
    "plt.savefig(os.path.join(fig_path, f\"c_elegans_hist_sims_pos_seed_{seed}.png\"),\n",
    "            bbox_inches = 'tight',\n",
    "            pad_inches = 0,dpi=300)"
   ],
   "metadata": {
    "collapsed": false,
    "pycharm": {
     "name": "#%%\n"
    }
   }
  },
  {
   "cell_type": "code",
   "execution_count": 14,
   "outputs": [],
   "source": [
    "# load UMAP instance with inverted high-dimensional similarities\n",
    "seed=0\n",
    "with open(os.path.join(data_path, f\"umapperns_inv_seed_{seed}.pkl\"), \"rb\") as file:\n",
    "    umapperns_inv = pickle.load(file)\n",
    "    embd_inv = umapperns_inv.embedding_\n",
    "\n",
    "c_elegans_inv_fil_graph = filter_graph(umapperns_inv.graph_, umapperns.n_epochs).tocoo()\n",
    "\n"
   ],
   "metadata": {
    "collapsed": false,
    "pycharm": {
     "name": "#%%\n"
    }
   }
  },
  {
   "cell_type": "code",
   "execution_count": 15,
   "outputs": [
    {
     "name": "stdout",
     "output_type": "stream",
     "text": [
      "Historgram counts should match product of input tensor shapes, but are 7400128576 and 7400128402.\n"
     ]
    }
   ],
   "source": [
    "# compute all histograms\n",
    "hist_high_c_elegans_inv, \\\n",
    "hist_high_pos_c_elegans_inv, \\\n",
    "hist_target_c_elegans_inv, \\\n",
    "hist_target_pos_c_elegans_inv, \\\n",
    "hist_low_c_elegans_inv, \\\n",
    "hist_low_pos_c_elegans_inv, \\\n",
    "bins_c_elegans_inv= hists_from_graph_embd(graph=c_elegans_inv_fil_graph,\n",
    "                                          embedding=embd_inv,\n",
    "                                          a=a,\n",
    "                                          b=b)\n",
    "\n"
   ],
   "metadata": {
    "collapsed": false,
    "pycharm": {
     "name": "#%%\n"
    }
   }
  },
  {
   "cell_type": "code",
   "execution_count": 16,
   "outputs": [
    {
     "data": {
      "text/plain": "<Figure size 576x360 with 1 Axes>",
      "image/png": "[encoded data removed]"
     },
     "metadata": {
      "needs_background": "light"
     },
     "output_type": "display_data"
    }
   ],
   "source": [
    "# compare histograms of for positive high-dimensional and target similarities for normal and inverted high-dimensional similarities\n",
    "alpha=0.5\n",
    "plt.rcParams.update({'font.size': 22})\n",
    "plt.figure(figsize=(8, 5))\n",
    "plt.hist(bins_c_elegans[:-1],\n",
    "         bins_c_elegans,\n",
    "         weights=hist_high_pos_c_elegans,\n",
    "         alpha=alpha,\n",
    "         label=r\"$\\mu_{ij}$\")\n",
    "plt.hist(bins_c_elegans[:-1],\n",
    "         bins_c_elegans,\n",
    "         weights=hist_target_pos_c_elegans,\n",
    "         alpha=alpha,\n",
    "         label=r\"$\\nu_{ij}^*$\")\n",
    "\n",
    "plt.hist(bins_c_elegans_inv[:-1],\n",
    "         bins_c_elegans_inv,\n",
    "         weights=hist_high_pos_c_elegans_inv,\n",
    "         alpha=alpha,\n",
    "         label=r\"inverted $\\mu_{ij}$\")\n",
    "plt.hist(bins_c_elegans_inv[:-1],\n",
    "         bins_c_elegans_inv,\n",
    "         weights=hist_target_pos_c_elegans_inv,\n",
    "         alpha=alpha,\n",
    "         label=r\"$\\nu_{ij}^*$ for inverted $\\mu_{ij}$\")\n",
    "\n",
    "plt.legend(loc=\"upper center\",  ncol=2, handlelength=1.0)\n",
    "#plt.yscale(\"symlog\", linthresh=1)\n",
    "plt.gca().spines['left'].set_position(\"zero\")\n",
    "plt.gca().spines['bottom'].set_position(\"zero\")\n",
    "plt.savefig(os.path.join(fig_path, f\"c_elegans_compare_no_inv_inv_{seed}.png\"),\n",
    "            bbox_inches = 'tight',\n",
    "            pad_inches = 0,dpi=300)"
   ],
   "metadata": {
    "collapsed": false,
    "pycharm": {
     "name": "#%%\n"
    }
   }
  },
  {
   "cell_type": "code",
   "execution_count": 17,
   "outputs": [
    {
     "name": "stdout",
     "output_type": "stream",
     "text": [
      "tensor(0.0043, device='cuda:0')\n",
      "0.9998971752663235\n"
     ]
    }
   ],
   "source": [
    "# maximal true repulsive weight\n",
    "c_elegans_push_weights_keops, _ = get_UMAP_push_weight_keops(high_sim=c_elegans_fil_graph,\n",
    "                                                             negative_sample_rate=umapperns.negative_sample_rate)\n",
    "print(c_elegans_push_weights_keops.max(1).max())\n",
    "\n",
    "# average intended repulsive weight\n",
    "\n",
    "n_pairs = np.prod(c_elegans_fil_graph.shape)\n",
    "avg_high_sim_push_weight = 1/n_pairs * ((1-c_elegans_fil_graph.data).sum()  # rep weights below one\n",
    "                           + n_pairs - c_elegans_fil_graph.nnz) # rep weights equal one\n",
    "print(avg_high_sim_push_weight)\n",
    "\n",
    "\n"
   ],
   "metadata": {
    "collapsed": false,
    "pycharm": {
     "name": "#%%\n"
    }
   }
  }
 ],
 "metadata": {
  "kernelspec": {
   "name": "conda-env-umap-negs-py",
   "language": "python",
   "display_name": "Python [conda env:umap-negs]"
  },
  "language_info": {
   "codemirror_mode": {
    "name": "ipython",
    "version": 2
   },
   "file_extension": ".py",
   "mimetype": "text/x-python",
   "name": "python",
   "nbconvert_exporter": "python",
   "pygments_lexer": "ipython2",
   "version": "2.7.6"
  }
 },
 "nbformat": 4,
 "nbformat_minor": 0
}